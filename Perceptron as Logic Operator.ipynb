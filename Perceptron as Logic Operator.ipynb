{
 "cells": [
  {
   "cell_type": "markdown",
   "metadata": {},
   "source": [
    "# Perceptron as Logical Operator"
   ]
  },
  {
   "cell_type": "markdown",
   "metadata": {},
   "source": [
    "## What is a Perceptron?"
   ]
  },
  {
   "cell_type": "markdown",
   "metadata": {},
   "source": [
    "<p>\n",
    "In machine learning, the perceptron is an algorithm for supervised learning of binary classifiers. A binary classifier is a function which can decide whether or not an input, represented by a vector of numbers, belongs to some specific class. It is a type of linear classifier, i.e. a classification algorithm that makes its predictions based on a linear predictor function combining a set of weights with the feature vector.</p><pre>\n",
    "                                                                                        -wiki</pre>"
   ]
  },
  {
   "cell_type": "markdown",
   "metadata": {},
   "source": [
    "<p> In simple words, <strong>Perceptron is a Computational Unit</strong>  (or simply a function) which takes in set of inputs and gives out the result. </p>\n",
    "\n",
    "![Perceptron](https://cdn-images-1.medium.com/max/1600/1*-JtN9TWuoZMz7z9QKbT85A.png)\n"
   ]
  },
  {
   "cell_type": "markdown",
   "metadata": {},
   "source": [
    "<p> The role of perceptron is to find a function which will <strong>approximately satisfy all the given data</strong>.\n",
    "Lets say X<sub>1</sub> = (x<sub>11</sub>, x<sub>12</sub>, x<sub>13</sub>) are one of out data in a set of data X =(X<sub>1</sub>, X<sub>2</sub>, ..., X<sub>n</sub>).\n",
    "\n",
    "So we totally have n datas, and each data have 3 points X<sub>i</sub> = (x<sub>i1</sub>, x<sub>i2</sub>, x<sub>i3</sub>).<br>\n",
    "The result/answer of each data(X<sub>i</sub>) is given by y<sub>i</sub> \n",
    "<p>\n",
    "    \n",
    "<p>Here the objective of a perceptron is to find a function f(X) = y.\n",
    "ie: the function f , has to satisfy all the points of X =(X<sub>1</sub>, X<sub>2</sub>, ..., X<sub>n</sub>).\n",
    "    \n",
    "f(X<sub>1</sub>) = y<sub>1</sub><br>\n",
    "f(X<sub>2</sub>) = y<sub>2</sub><br>\n",
    ".<br>\n",
    ".<br>\n",
    "f(X<sub>n</sub>) = y<sub>n</sub>\n",
    "\n",
    "</p>"
   ]
  },
  {
   "cell_type": "markdown",
   "metadata": {},
   "source": [
    "## Now we will see how to find f , so that it satisfies all f(X<sub>i</sub>) = y<sub>i</sub> using perceptron as logical operators as example"
   ]
  },
  {
   "cell_type": "markdown",
   "metadata": {},
   "source": [
    "What ever our target function/prediction is , we need to follow certain steps to get the prediction function:<br>\n",
    "1. assign random function lets say for our task we have 2D data. so we randomly allot our function <br><strong>f(X) = W<sub>1</sub>x<sub>1</sub> + W<sub>2</sub>x<sub>2</sub> + b  </strong>,    W<sub>1</sub>, W<sub>2</sub>, b are some random Real Value.<br><br>\n",
    "Now , we have a random function, But we can see it's a linear function.The actual function which will fit the data may be non-linear also. <br>\n",
    "So, we apply an activation function on top of out function to make it non-linear.<br>\n",
    "<strong>z = f(X) = W<sub>1</sub>x<sub>1</sub> + W<sub>2</sub>x<sub>2</sub> + b  </strong>\n",
    "by applying some non linear function$$\\sigma(z)$$<br>\n",
    "\n",
    "2. Now , we have a non linear function $$a = \\sigma(z)$$.\n",
    "    <br> Now let us see how good id our random inital function in classifyingout data.<br> Ofcourse it is not going to give a good fit, So now we apply <strong> Gradient Descent</strong> to the function and change  W<sub>1</sub>, W<sub>2</sub>, b such that the function z = f(x) fits the given data well.\n",
    "\n",
    "3. But how do we know how good is the function in fitting the data, we cant visualize it everytime. So we have to decide some metric L(y, a). \n",
    "<br> Our goal is to choose best W<sub>1</sub>, W<sub>2</sub>, b such that L(y,a) is the lowest. So we apply gradient descent here to reduce L(y,a)."
   ]
  },
  {
   "cell_type": "markdown",
   "metadata": {},
   "source": []
  },
  {
   "cell_type": "markdown",
   "metadata": {},
   "source": [
    "## AND Operator"
   ]
  },
  {
   "cell_type": "markdown",
   "metadata": {},
   "source": [
    "You should be knowing AND operator of <strong>X&Y or X.Y</strong>\n",
    "![](data:image/png;base64,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)\n",
    "\n",
    "Let us try to implement AND with the perceptron, with the data in the above table."
   ]
  },
  {
   "cell_type": "markdown",
   "metadata": {},
   "source": [
    "### Data for AND "
   ]
  },
  {
   "cell_type": "code",
   "execution_count": 10,
   "metadata": {},
   "outputs": [
    {
     "name": "stdout",
     "output_type": "stream",
     "text": [
      "X is \n",
      " [[0 0]\n",
      " [0 1]\n",
      " [1 0]\n",
      " [1 1]]\n"
     ]
    }
   ],
   "source": [
    "import numpy as np\n",
    "\n",
    "X = np.array([[0, 0], [0, 1], [1, 0], [1, 1]])\n",
    "print('X is \\n',X)"
   ]
  },
  {
   "cell_type": "code",
   "execution_count": 162,
   "metadata": {},
   "outputs": [
    {
     "name": "stdout",
     "output_type": "stream",
     "text": [
      "y is  [[0]\n",
      " [0]\n",
      " [0]\n",
      " [1]]\n"
     ]
    }
   ],
   "source": [
    "y = np.array([[0], [0], [0], [1]])\n",
    "print('y is ', y)"
   ]
  },
  {
   "cell_type": "markdown",
   "metadata": {},
   "source": [
    "### Visualize data"
   ]
  },
  {
   "cell_type": "code",
   "execution_count": 163,
   "metadata": {},
   "outputs": [
    {
     "data": {
      "image/png": "[encoded data removed]",
      "text/plain": [
       "<Figure size 432x288 with 1 Axes>"
      ]
     },
     "metadata": {
      "needs_background": "light"
     },
     "output_type": "display_data"
    }
   ],
   "source": [
    "import matplotlib.pyplot as plt\n",
    "for i,x in enumerate(X):\n",
    "    if y[i]:\n",
    "        color = 'blue'\n",
    "    else:\n",
    "        color = 'red'\n",
    "    plt.scatter(x[0], x[1], color=color, s=500)\n",
    "plt.show()"
   ]
  },
  {
   "cell_type": "markdown",
   "metadata": {},
   "source": [
    "### Initializing random Weights and biases"
   ]
  },
  {
   "cell_type": "code",
   "execution_count": null,
   "metadata": {},
   "outputs": [],
   "source": [
    "def initialize_weight_bias(X, y):\n",
    "    W = np.random.randn(X.shape[1],1 ) * 0.5\n",
    "    b = np.random.randn(1,1)\n",
    "    return W, b"
   ]
  },
  {
   "cell_type": "markdown",
   "metadata": {},
   "source": [
    "### Defining loss function"
   ]
  },
  {
   "cell_type": "code",
   "execution_count": 231,
   "metadata": {},
   "outputs": [],
   "source": [
    "def cross_entropy(Y, P):\n",
    "    Y = np.float_(Y)\n",
    "    P = np.float_(P)\n",
    "    return -1*np.sum(Y*np.log(P)+(1-Y)*np.log(1-P))\n",
    "\n",
    "def loss(y, a):\n",
    "    return cross_entropy(y,a)"
   ]
  },
  {
   "cell_type": "markdown",
   "metadata": {},
   "source": [
    "### Forward Pass"
   ]
  },
  {
   "cell_type": "code",
   "execution_count": 208,
   "metadata": {},
   "outputs": [],
   "source": [
    "def forward(W, b, X):\n",
    "    return np.dot(X, W) + b"
   ]
  },
  {
   "cell_type": "markdown",
   "metadata": {},
   "source": [
    "### Activation functions"
   ]
  },
  {
   "cell_type": "code",
   "execution_count": 185,
   "metadata": {},
   "outputs": [],
   "source": [
    "# sigmoid\n",
    "\n",
    "def activation(z): \n",
    "    return 1/(1+np.exp(-z))\n",
    "\n",
    "#softmax (for multi class classification)\n",
    "\n",
    "def softmax(L):\n",
    "    return np.exp(L)/np.sum(np.exp(L))"
   ]
  },
  {
   "cell_type": "markdown",
   "metadata": {},
   "source": [
    "### Backward Pass"
   ]
  },
  {
   "cell_type": "code",
   "execution_count": 191,
   "metadata": {},
   "outputs": [],
   "source": [
    "def backward(X, a, y):\n",
    "    return np.dot(X.T, a-y), (a-y).mean()"
   ]
  },
  {
   "cell_type": "markdown",
   "metadata": {},
   "source": [
    "### Training Loop"
   ]
  },
  {
   "cell_type": "code",
   "execution_count": 261,
   "metadata": {},
   "outputs": [
    {
     "name": "stdout",
     "output_type": "stream",
     "text": [
      "Epoch 10 : loss = 2.2492500382227596\n",
      "Epoch 20 : loss = 1.5411980521629416\n",
      "Epoch 30 : loss = 1.200864762318954\n",
      "Epoch 40 : loss = 0.994988484533855\n",
      "Epoch 50 : loss = 0.8535561457420726\n",
      "Epoch 60 : loss = 0.7488728583293198\n",
      "Epoch 70 : loss = 0.6675900462093359\n",
      "Epoch 80 : loss = 0.6023464456975653\n",
      "Epoch 90 : loss = 0.548680615823349\n",
      "Epoch 100 : loss = 0.5036968151232831\n",
      "Epoch 110 : loss = 0.46541644245958425\n",
      "Epoch 120 : loss = 0.4324328435899972\n",
      "Epoch 130 : loss = 0.403714020163894\n",
      "Epoch 140 : loss = 0.3784832574925585\n",
      "Epoch 150 : loss = 0.35614347246524825\n",
      "Epoch 160 : loss = 0.3362274015246843\n",
      "Epoch 170 : loss = 0.3183637380525176\n",
      "Epoch 180 : loss = 0.3022534813018826\n",
      "Epoch 190 : loss = 0.28765303042321055\n",
      "Epoch 200 : loss = 0.27436185511754274\n",
      "Epoch 210 : loss = 0.26221334485508524\n",
      "Epoch 220 : loss = 0.25106791123786126\n",
      "Epoch 230 : loss = 0.24080771659224315\n",
      "Epoch 240 : loss = 0.23133259530262146\n",
      "Epoch 250 : loss = 0.2225568626203555\n",
      "Epoch 260 : loss = 0.21440679242931043\n",
      "Epoch 270 : loss = 0.2068186052192125\n",
      "Epoch 280 : loss = 0.19973684938551298\n",
      "Epoch 290 : loss = 0.19311308874403427\n",
      "Epoch 300 : loss = 0.1869048306069126\n",
      "Epoch 310 : loss = 0.18107464442817495\n",
      "Epoch 320 : loss = 0.17558943259042048\n",
      "Epoch 330 : loss = 0.1704198235321035\n",
      "Epoch 340 : loss = 0.1655396639163299\n",
      "Epoch 350 : loss = 0.1609255914859064\n",
      "Epoch 360 : loss = 0.15655667404085022\n",
      "Epoch 370 : loss = 0.15241410290546287\n",
      "Epoch 380 : loss = 0.14848093153464392\n",
      "Epoch 390 : loss = 0.14474185169924098\n",
      "Epoch 400 : loss = 0.14118300110342516\n",
      "Epoch 410 : loss = 0.13779179740964484\n",
      "Epoch 420 : loss = 0.1345567945436853\n",
      "Epoch 430 : loss = 0.1314675578730513\n",
      "Epoch 440 : loss = 0.12851455543403212\n",
      "Epoch 450 : loss = 0.12568906285536952\n",
      "Epoch 460 : loss = 0.12298308001192539\n",
      "Epoch 470 : loss = 0.12038925775758469\n",
      "Epoch 480 : loss = 0.11790083334656594\n",
      "Epoch 490 : loss = 0.11551157336710813\n",
      "Epoch 500 : loss = 0.1132157231897153\n"
     ]
    },
    {
     "data": {
      "text/plain": [
       "[<matplotlib.lines.Line2D at 0x7fe7ff0b7630>]"
      ]
     },
     "execution_count": 261,
     "metadata": {},
     "output_type": "execute_result"
    },
    {
     "data": {
      "image/png": "[encoded data removed]",
      "text/plain": [
       "<Figure size 432x288 with 1 Axes>"
      ]
     },
     "metadata": {
      "needs_background": "light"
     },
     "output_type": "display_data"
    }
   ],
   "source": [
    "learning_rate = 0.8\n",
    "epochs = 500\n",
    "\n",
    "W, b = initialize_weight_bias(X, y)\n",
    "\n",
    "losses=[]\n",
    "for i in range(epochs):\n",
    "    z = forward(W, b, X)\n",
    "    a = activation(z)\n",
    "    l = loss(y, a)\n",
    "    if (i+1)%10 == 0 :\n",
    "        print('Epoch {} : loss = {}'.format(i+1, l))\n",
    "    dw, db = backward(X, a, y)\n",
    "    W = W - learning_rate * dw\n",
    "    b = b - learning_rate * db\n",
    "    losses.append(l)\n",
    "plt.plot(losses) "
   ]
  },
  {
   "cell_type": "markdown",
   "metadata": {},
   "source": [
    "### Visualizing the trained weights and biases"
   ]
  },
  {
   "cell_type": "code",
   "execution_count": 262,
   "metadata": {},
   "outputs": [
    {
     "data": {
      "text/plain": [
       "[<matplotlib.lines.Line2D at 0x7fe7ff0e1e10>]"
      ]
     },
     "execution_count": 262,
     "metadata": {},
     "output_type": "execute_result"
    },
    {
     "data": {
      "image/png": "[encoded data removed]",
      "text/plain": [
       "<Figure size 432x288 with 1 Axes>"
      ]
     },
     "metadata": {
      "needs_background": "light"
     },
     "output_type": "display_data"
    }
   ],
   "source": [
    "xl = np.linspace(0, 1, 100)\n",
    "slope = -float(W[1])/float(W[0])\n",
    "intercept = -float(b)/float(W[0])\n",
    "line = [slope * i + intercept for i in xl]\n",
    "\n",
    "for i,x in enumerate(X):\n",
    "    if y[i]:\n",
    "        color = 'blue'\n",
    "    else:\n",
    "        color = 'red'\n",
    "    plt.scatter(x[0], x[1], color=color, s=500)\n",
    "    \n",
    "plt.plot(xl, line) "
   ]
  },
  {
   "cell_type": "markdown",
   "metadata": {},
   "source": [
    "### Trained AND Operator"
   ]
  },
  {
   "cell_type": "code",
   "execution_count": 263,
   "metadata": {},
   "outputs": [],
   "source": [
    "def AND(X):\n",
    "    if forward(W, b, X) > 0:\n",
    "        return 1\n",
    "    else:\n",
    "        return 0"
   ]
  },
  {
   "cell_type": "code",
   "execution_count": 264,
   "metadata": {},
   "outputs": [
    {
     "data": {
      "text/plain": [
       "0"
      ]
     },
     "execution_count": 264,
     "metadata": {},
     "output_type": "execute_result"
    }
   ],
   "source": [
    "AND([0,0])"
   ]
  },
  {
   "cell_type": "code",
   "execution_count": 265,
   "metadata": {},
   "outputs": [
    {
     "data": {
      "text/plain": [
       "0"
      ]
     },
     "execution_count": 265,
     "metadata": {},
     "output_type": "execute_result"
    }
   ],
   "source": [
    "AND([0,1])"
   ]
  },
  {
   "cell_type": "code",
   "execution_count": 266,
   "metadata": {},
   "outputs": [
    {
     "data": {
      "text/plain": [
       "0"
      ]
     },
     "execution_count": 266,
     "metadata": {},
     "output_type": "execute_result"
    }
   ],
   "source": [
    "AND([1,0])"
   ]
  },
  {
   "cell_type": "code",
   "execution_count": 267,
   "metadata": {},
   "outputs": [
    {
     "data": {
      "text/plain": [
       "1"
      ]
     },
     "execution_count": 267,
     "metadata": {},
     "output_type": "execute_result"
    }
   ],
   "source": [
    "AND([1,1])"
   ]
  },
  {
   "cell_type": "markdown",
   "metadata": {},
   "source": [
    "## We trained a AND function without even telling the code that AND is a.b or a&b , just by giving it data."
   ]
  },
  {
   "cell_type": "markdown",
   "metadata": {},
   "source": [
    "## OR , NOT, XOR Operator"
   ]
  },
  {
   "cell_type": "markdown",
   "metadata": {},
   "source": [
    "Any operations can be trained using the above code, just by changing X, y."
   ]
  }
 ],
 "metadata": {
  "kernelspec": {
   "display_name": "Python 3",
   "language": "python",
   "name": "python3"
  },
  "language_info": {
   "codemirror_mode": {
    "name": "ipython",
    "version": 3
   },
   "file_extension": ".py",
   "mimetype": "text/x-python",
   "name": "python",
   "nbconvert_exporter": "python",
   "pygments_lexer": "ipython3",
   "version": "3.6.5"
  }
 },
 "nbformat": 4,
 "nbformat_minor": 2
}
